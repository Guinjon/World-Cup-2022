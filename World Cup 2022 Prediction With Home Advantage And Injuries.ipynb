{
 "cells": [
  {
   "cell_type": "code",
   "execution_count": 1,
   "metadata": {
    "_cell_guid": "b1076dfc-b9ad-4769-8c92-a6c4dae69d19",
    "_uuid": "8f2839f25d086af736a60e9eeb907d3b93b6e0e5"
   },
   "outputs": [],
   "source": [
    "import numpy as np\n",
    "import pandas as pd\n",
    "from matplotlib import pyplot as plt\n",
    "\n",
    "rankings = pd.read_csv(\"FIFA Rankings From 1993 To 2022/fifa_ranking_1993_2022.csv\")\n",
    "rankings = rankings.loc[:,[\"rank\", \"country_full\", \"country_abrv\", \"cur_year_avg_weighted\", \"rank_date\", \"last_year_avg_weighted\",\n",
    "                           \"two_year_ago_weighted\", \"three_year_ago_weighted\"]]\n",
    "rankings = rankings.replace({\"IR Iran\": \"Iran\", \"USA\": \"United States\", \"Korea Republic\": \"South Korea\"})\n",
    "rankings[\"weighted_points\"] =  rankings[\"cur_year_avg_weighted\"] + rankings[\"last_year_avg_weighted\"] + rankings[\"two_year_ago_weighted\"] + rankings[\"three_year_ago_weighted\"]\n",
    "rankings[\"rank_date\"] = pd.to_datetime(rankings[\"rank_date\"])\n",
    "\n",
    "matches = pd.read_csv(\"International Results From 1872 To 2022/results.csv\")\n",
    "matches =  matches.replace({\"Germany DR\": \"Germany\", \"China\": \"China PR\", \"Ivory Coast\": \"Côte d'Ivoire\", \"Eswatini\": \"Swaziland\"})\n",
    "matches[\"date\"] = pd.to_datetime(matches[\"date\"])\n",
    "\n",
    "world_cup = pd.read_csv(\"Datasets/World Cup 2022 Dataset.csv\")\n",
    "world_cup = world_cup.loc[:, [\"Team\", \"Group\", \"First Match Against\", \"Second Match Against\", \"Third Match Against\"]]\n",
    "world_cup = world_cup.dropna(how=\"all\")\n",
    "world_cup = world_cup.set_index(\"Team\")"
   ]
  },
  {
   "cell_type": "code",
   "execution_count": 2,
   "metadata": {
    "_uuid": "863552790217b049b611165e162ad3182f1692f9"
   },
   "outputs": [],
   "source": [
    "# I want to have the ranks for every day \n",
    "rankings = rankings.set_index([\"rank_date\"])\\\n",
    "            .groupby([\"country_full\"], group_keys=False)\\\n",
    "            .resample(\"D\").first()\\\n",
    "            .fillna(method=\"ffill\")\\\n",
    "            .reset_index()\n",
    "\n",
    "# join the ranks\n",
    "matches = matches.merge(rankings, \n",
    "                        left_on=[\"date\", \"home_team\"], \n",
    "                        right_on=[\"rank_date\", \"country_full\"])\n",
    "matches = matches.merge(rankings, \n",
    "                        left_on=[\"date\", \"away_team\"], \n",
    "                        right_on=[\"rank_date\", \"country_full\"], \n",
    "                        suffixes=(\"_home\", \"_away\"))"
   ]
  },
  {
   "cell_type": "code",
   "execution_count": 3,
   "metadata": {
    "_uuid": "107fa4816e6db551811abd9fc784c34f1ad63682"
   },
   "outputs": [],
   "source": [
    "# feature generation\n",
    "matches[\"rank_difference\"] = matches[\"rank_home\"] - matches[\"rank_away\"]\n",
    "matches[\"average_rank\"] = (matches[\"rank_home\"] + matches[\"rank_away\"])/2\n",
    "matches[\"point_difference\"] = matches[\"weighted_points_home\"] - matches[\"weighted_points_away\"]\n",
    "matches[\"score_difference\"] = matches[\"home_score\"] - matches[\"away_score\"]\n",
    "matches[\"is_won\"] = matches[\"score_difference\"] > 0 # take draw as lost\n",
    "matches[\"is_stake\"] = matches[\"tournament\"] != \"Friendly\"\n"
   ]
  },
  {
   "cell_type": "code",
   "execution_count": 4,
   "metadata": {
    "_uuid": "78e3186d0e783cf2a4cb1a141a8d0ffe9f2b59ba"
   },
   "outputs": [
    {
     "name": "stderr",
     "output_type": "stream",
     "text": [
      "C:\\Users\\guinj\\anaconda3\\lib\\site-packages\\sklearn\\linear_model\\_logistic.py:763: ConvergenceWarning: lbfgs failed to converge (status=1):\n",
      "STOP: TOTAL NO. of ITERATIONS REACHED LIMIT.\n",
      "\n",
      "Increase the number of iterations (max_iter) or scale the data as shown in:\n",
      "    https://scikit-learn.org/stable/modules/preprocessing.html\n",
      "Please also refer to the documentation for alternative solver options:\n",
      "    https://scikit-learn.org/stable/modules/linear_model.html#logistic-regression\n",
      "  n_iter_i = _check_optimize_result(\n"
     ]
    },
    {
     "data": {
      "image/png": "[encoded data removed]",
      "text/plain": [
       "<Figure size 1080x360 with 3 Axes>"
      ]
     },
     "metadata": {
      "needs_background": "light"
     },
     "output_type": "display_data"
    }
   ],
   "source": [
    "from sklearn import linear_model\n",
    "from sklearn import ensemble\n",
    "from sklearn.model_selection import train_test_split\n",
    "from sklearn.metrics import confusion_matrix, roc_curve, roc_auc_score\n",
    "from sklearn.pipeline import Pipeline\n",
    "from sklearn.preprocessing import PolynomialFeatures\n",
    "\n",
    "X, y = matches.loc[:,[\"average_rank\", \"rank_difference\", \"point_difference\", \"is_stake\"]], matches[\"is_won\"]\n",
    "X_train, X_test, y_train, y_test = train_test_split(\n",
    "    X, y, test_size=0.2, random_state=42)\n",
    "\n",
    "logreg = linear_model.LogisticRegression(C=1e-5)\n",
    "features = PolynomialFeatures(degree=2)\n",
    "model = Pipeline([\n",
    "    (\"polynomial_features\", features),\n",
    "    (\"logistic_regression\", logreg)\n",
    "])\n",
    "model = model.fit(X_train, y_train)\n",
    "\n",
    "# figures \n",
    "fpr, tpr, _ = roc_curve(y_test, model.predict_proba(X_test)[:,1])\n",
    "plt.figure(figsize=(15,5))\n",
    "ax = plt.subplot(1,3,1)\n",
    "ax.plot([0, 1], [0, 1], \"k--\")\n",
    "ax.plot(fpr, tpr)\n",
    "ax.set_title(\"AUC score is {0:0.2}\".format(roc_auc_score(y_test, model.predict_proba(X_test)[:,1])))\n",
    "ax.set_aspect(1)\n",
    "\n",
    "ax = plt.subplot(1,3,2)\n",
    "cm = confusion_matrix(y_test, model.predict(X_test))\n",
    "ax.imshow(cm, cmap=\"Blues\", clim = (0, cm.max())) \n",
    "\n",
    "ax.set_xlabel(\"Predicted label\")\n",
    "ax.set_title(\"Performance on the Test set\")\n",
    "\n",
    "ax = plt.subplot(1,3,3)\n",
    "cm = confusion_matrix(y_train, model.predict(X_train))\n",
    "ax.imshow(cm, cmap=\"Blues\", clim = (0, cm.max())) \n",
    "ax.set_xlabel(\"Predicted label\")\n",
    "ax.set_title(\"Performance on the Training set\")\n",
    "pass"
   ]
  },
  {
   "cell_type": "code",
   "execution_count": 5,
   "metadata": {
    "_uuid": "f6550496a065d29bade0adbbb5c7662fd7c7fc40"
   },
   "outputs": [
    {
     "name": "stdout",
     "output_type": "stream",
     "text": [
      "Stakes distribution in the wrong predictions\n",
      "True     0.6\n",
      "False    0.4\n",
      "Name: is_stake, dtype: float64\n",
      "Stakes distribution overall\n",
      "True     0.637114\n",
      "False    0.362886\n",
      "Name: is_stake, dtype: float64\n"
     ]
    },
    {
     "data": {
      "image/png": "[encoded data removed]",
      "text/plain": [
       "<Figure size 432x288 with 1 Axes>"
      ]
     },
     "metadata": {
      "needs_background": "light"
     },
     "output_type": "display_data"
    },
    {
     "data": {
      "image/png": "[encoded data removed]",
      "text/plain": [
       "<Figure size 432x288 with 1 Axes>"
      ]
     },
     "metadata": {
      "needs_background": "light"
     },
     "output_type": "display_data"
    },
    {
     "data": {
      "image/png": "[encoded data removed]",
      "text/plain": [
       "<Figure size 432x288 with 1 Axes>"
      ]
     },
     "metadata": {
      "needs_background": "light"
     },
     "output_type": "display_data"
    }
   ],
   "source": [
    "features = [\"average_rank\", \"rank_difference\", \"point_difference\"]\n",
    "wrongs = y_test != model.predict(X_test)\n",
    "\n",
    "for feature in features:\n",
    "    plt.figure()\n",
    "    plt.title(feature)\n",
    "    X_test.loc[wrongs, feature].plot.kde()\n",
    "    X.loc[:, feature].plot.kde()\n",
    "    plt.legend([\"wrongs\", \"all\"])\n",
    "    \n",
    "print(\"Stakes distribution in the wrong predictions\")\n",
    "print(X_test.loc[wrongs, \"is_stake\"].value_counts() / wrongs.sum())\n",
    "print(\"Stakes distribution overall\")\n",
    "print(X[\"is_stake\"].value_counts() / X.shape[0])"
   ]
  },
  {
   "cell_type": "markdown",
   "metadata": {
    "_uuid": "479b97e38320c9eba008210903b17951edc84727"
   },
   "source": [
    "# World Cup simulation"
   ]
  },
  {
   "cell_type": "markdown",
   "metadata": {
    "_uuid": "16eae35346f7a015d627801e05d0d408f3091964"
   },
   "source": [
    "## Group rounds"
   ]
  },
  {
   "cell_type": "code",
   "execution_count": 6,
   "metadata": {
    "_uuid": "db455e9096f0a41a0abd512193222f366d42c4c8"
   },
   "outputs": [],
   "source": [
    "# let's define a small margin when we safer to predict draw then win\n",
    "margin = 0.05\n",
    "\n",
    "# let's define the rankings at the time of the World Cup\n",
    "world_cup_rankings = rankings.loc[(rankings[\"rank_date\"] == rankings[\"rank_date\"].max()) & \n",
    "                                    rankings[\"country_full\"].isin(world_cup.index.unique())]\n",
    "world_cup_rankings = world_cup_rankings.set_index([\"country_full\"])"
   ]
  },
  {
   "cell_type": "code",
   "execution_count": 7,
   "metadata": {},
   "outputs": [],
   "source": [
    "# I want to add a home crowd advantage for Qatar\n",
    "\n",
    "world_cup_rankings.loc[world_cup_rankings.index[21], 'weighted_points'] = world_cup_rankings.loc[world_cup_rankings.index[21], 'weighted_points'] + 300\n",
    "\n",
    "# also for teams with a lot of supporters who lives in Qatar with another coefficient (Iran, Morocco, Saudi Arabia, Tunisia)\n",
    "\n",
    "world_cup_rankings.loc[world_cup_rankings.index[14], 'weighted_points'] = world_cup_rankings.loc[world_cup_rankings.index[14], 'weighted_points'] + 200\n",
    "world_cup_rankings.loc[world_cup_rankings.index[17], 'weighted_points'] = world_cup_rankings.loc[world_cup_rankings.index[17], 'weighted_points'] + 150\n",
    "world_cup_rankings.loc[world_cup_rankings.index[22], 'weighted_points'] = world_cup_rankings.loc[world_cup_rankings.index[22], 'weighted_points'] + 250\n",
    "world_cup_rankings.loc[world_cup_rankings.index[28], 'weighted_points'] = world_cup_rankings.loc[world_cup_rankings.index[28], 'weighted_points'] + 250"
   ]
  },
  {
   "cell_type": "code",
   "execution_count": 8,
   "metadata": {},
   "outputs": [],
   "source": [
    "# I also want to add a minus for teams with injured players with a coefficient\n",
    "\n",
    "world_cup_rankings.loc[world_cup_rankings.index[0], 'weighted_points'] = world_cup_rankings.loc[world_cup_rankings.index[0], 'weighted_points'] - 50\n",
    "world_cup_rankings.loc[world_cup_rankings.index[2], 'weighted_points'] = world_cup_rankings.loc[world_cup_rankings.index[2], 'weighted_points'] - 300\n",
    "world_cup_rankings.loc[world_cup_rankings.index[5], 'weighted_points'] = world_cup_rankings.loc[world_cup_rankings.index[5], 'weighted_points'] - 100\n",
    "world_cup_rankings.loc[world_cup_rankings.index[9], 'weighted_points'] = world_cup_rankings.loc[world_cup_rankings.index[9], 'weighted_points'] - 100\n",
    "world_cup_rankings.loc[world_cup_rankings.index[10], 'weighted_points'] = world_cup_rankings.loc[world_cup_rankings.index[10], 'weighted_points'] - 100\n",
    "world_cup_rankings.loc[world_cup_rankings.index[11], 'weighted_points'] = world_cup_rankings.loc[world_cup_rankings.index[11], 'weighted_points'] - 200\n",
    "world_cup_rankings.loc[world_cup_rankings.index[12], 'weighted_points'] = world_cup_rankings.loc[world_cup_rankings.index[12], 'weighted_points'] - 100\n",
    "world_cup_rankings.loc[world_cup_rankings.index[15], 'weighted_points'] = world_cup_rankings.loc[world_cup_rankings.index[15], 'weighted_points'] - 50\n",
    "world_cup_rankings.loc[world_cup_rankings.index[16], 'weighted_points'] = world_cup_rankings.loc[world_cup_rankings.index[16], 'weighted_points'] - 100\n",
    "world_cup_rankings.loc[world_cup_rankings.index[17], 'weighted_points'] = world_cup_rankings.loc[world_cup_rankings.index[17], 'weighted_points'] - 100\n",
    "world_cup_rankings.loc[world_cup_rankings.index[18], 'weighted_points'] = world_cup_rankings.loc[world_cup_rankings.index[18], 'weighted_points'] - 200\n",
    "world_cup_rankings.loc[world_cup_rankings.index[20], 'weighted_points'] = world_cup_rankings.loc[world_cup_rankings.index[20], 'weighted_points'] - 100\n",
    "world_cup_rankings.loc[world_cup_rankings.index[23], 'weighted_points'] = world_cup_rankings.loc[world_cup_rankings.index[23], 'weighted_points'] - 100"
   ]
  },
  {
   "cell_type": "code",
   "execution_count": 9,
   "metadata": {
    "_uuid": "fd197611ef601dcc41c59f48f37f66bec6d2d669"
   },
   "outputs": [
    {
     "name": "stdout",
     "output_type": "stream",
     "text": [
      "___Starting group D:___\n",
      "France vs. Australia: France wins with 0.70\n",
      "France vs. Denmark: Draw\n",
      "France vs. Tunisia: France wins with 0.57\n",
      "Australia vs. Denmark: Denmark wins with 0.73\n",
      "Australia vs. Tunisia: Tunisia wins with 0.67\n",
      "Denmark vs. Tunisia: Draw\n",
      "___Starting group B:___\n",
      "England vs. Iran: Draw\n",
      "England vs. United States: England wins with 0.58\n",
      "England vs. Wales: England wins with 0.61\n",
      "Iran vs. United States: Draw\n",
      "Iran vs. Wales: Iran wins with 0.55\n",
      "United States vs. Wales: Draw\n",
      "___Starting group G:___\n",
      "Brazil vs. Serbia: Brazil wins with 0.75\n",
      "Brazil vs. Switzerland: Brazil wins with 0.69\n",
      "Brazil vs. Cameroon: Brazil wins with 0.78\n",
      "Serbia vs. Switzerland: Switzerland wins with 0.61\n",
      "Serbia vs. Cameroon: Serbia wins with 0.60\n",
      "Switzerland vs. Cameroon: Switzerland wins with 0.67\n",
      "___Starting group F:___\n",
      "Belgium vs. Canada: Belgium wins with 0.76\n",
      "Belgium vs. Morocco: Belgium wins with 0.63\n",
      "Belgium vs. Croatia: Draw\n",
      "Canada vs. Morocco: Morocco wins with 0.71\n",
      "Canada vs. Croatia: Croatia wins with 0.81\n",
      "Morocco vs. Croatia: Croatia wins with 0.62\n",
      "___Starting group A:___\n",
      "Qatar vs. Ecuador: Draw\n",
      "Qatar vs. Senegal: Senegal wins with 0.56\n",
      "Qatar vs. Netherlands: Netherlands wins with 0.60\n",
      "Ecuador vs. Senegal: Senegal wins with 0.69\n",
      "Ecuador vs. Netherlands: Netherlands wins with 0.74\n",
      "Senegal vs. Netherlands: Netherlands wins with 0.56\n",
      "___Starting group E:___\n",
      "Spain vs. Costa Rica: Spain wins with 0.70\n",
      "Spain vs. Germany: Spain wins with 0.61\n",
      "Spain vs. Japan: Spain wins with 0.68\n",
      "Costa Rica vs. Germany: Germany wins with 0.66\n",
      "Costa Rica vs. Japan: Japan wins with 0.56\n",
      "Germany vs. Japan: Germany wins with 0.59\n",
      "___Starting group H:___\n",
      "Portugal vs. Ghana: Portugal wins with 0.73\n",
      "Portugal vs. Uruguay: Draw\n",
      "Portugal vs. South Korea: Portugal wins with 0.63\n",
      "Ghana vs. Uruguay: Uruguay wins with 0.79\n",
      "Ghana vs. South Korea: South Korea wins with 0.67\n",
      "Uruguay vs. South Korea: Uruguay wins with 0.63\n",
      "___Starting group C:___\n",
      "Argentina vs. Saudi Arabia: Argentina wins with 0.71\n",
      "Argentina vs. Mexico: Argentina wins with 0.62\n",
      "Argentina vs. Poland: Argentina wins with 0.66\n",
      "Saudi Arabia vs. Mexico: Mexico wins with 0.65\n",
      "Saudi Arabia vs. Poland: Poland wins with 0.60\n",
      "Mexico vs. Poland: Mexico wins with 0.55\n"
     ]
    }
   ],
   "source": [
    "from itertools import combinations\n",
    "\n",
    "opponents = [\"First Match Against\", \"Second Match Against\", \"Third Match Against\"]\n",
    "\n",
    "world_cup[\"points\"] = 0\n",
    "world_cup[\"total_prob\"] = 0\n",
    "\n",
    "for group in set(world_cup[\"Group\"]):\n",
    "    print(\"___Starting group {}:___\".format(group))\n",
    "    for home, away in combinations(world_cup.query('Group == \"{}\"'.format(group)).index, 2):\n",
    "        print(\"{} vs. {}: \".format(home, away), end='')\n",
    "        row = pd.DataFrame(np.array([[np.nan, np.nan, np.nan, True]]), columns=X_test.columns)\n",
    "        home_rank = world_cup_rankings.loc[home, \"rank\"]\n",
    "        home_points = world_cup_rankings.loc[home, \"weighted_points\"]\n",
    "        opp_rank = world_cup_rankings.loc[away, \"rank\"]\n",
    "        opp_points = world_cup_rankings.loc[away, \"weighted_points\"]\n",
    "        row[\"average_rank\"] = (home_rank + opp_rank) / 2\n",
    "        row[\"rank_difference\"] = home_rank - opp_rank\n",
    "        row[\"point_difference\"] = home_points - opp_points\n",
    "        \n",
    "        home_win_prob = model.predict_proba(row)[:,1][0]\n",
    "        world_cup.loc[home, \"total_prob\"] += home_win_prob\n",
    "        world_cup.loc[away, \"total_prob\"] += 1-home_win_prob\n",
    "        \n",
    "        points = 0\n",
    "        if home_win_prob <= 0.5 - margin:\n",
    "            print(\"{} wins with {:.2f}\".format(away, 1-home_win_prob))\n",
    "            world_cup.loc[away, \"points\"] += 3\n",
    "        if home_win_prob > 0.5 - margin:\n",
    "            points = 1\n",
    "        if home_win_prob >= 0.5 + margin:\n",
    "            points = 3\n",
    "            world_cup.loc[home, \"points\"] += 3\n",
    "            print(\"{} wins with {:.2f}\".format(home, home_win_prob))\n",
    "        if points == 1:\n",
    "            print(\"Draw\")\n",
    "            world_cup.loc[home, \"points\"] += 1\n",
    "            world_cup.loc[away, \"points\"] += 1"
   ]
  },
  {
   "cell_type": "markdown",
   "metadata": {
    "_uuid": "b2c787fd8541c281f736a4c6b698839f565ac1b8"
   },
   "source": [
    "## Single-elimination rounds"
   ]
  },
  {
   "cell_type": "code",
   "execution_count": 10,
   "metadata": {
    "_uuid": "2eb8426dfc5e4fdd985e8109179e34dac2e9c976"
   },
   "outputs": [
    {
     "name": "stdout",
     "output_type": "stream",
     "text": [
      "___Starting of the round_of_16___\n",
      "Netherlands vs. Iran: Iran wins with probability 0.58\n",
      "Argentina vs. Denmark: Argentina wins with probability 0.56\n",
      "Spain vs. Croatia: Spain wins with probability 0.56\n",
      "Brazil vs. Portugal: Brazil wins with probability 0.69\n",
      "England vs. Senegal: England wins with probability 0.65\n",
      "France vs. Mexico: France wins with probability 0.59\n",
      "Belgium vs. Germany: Belgium wins with probability 0.59\n",
      "Uruguay vs. Switzerland: Uruguay wins with probability 0.51\n",
      "\n",
      "\n",
      "___Starting of the quarterfinal___\n",
      "Iran vs. Argentina: Argentina wins with probability 0.59\n",
      "Spain vs. Brazil: Brazil wins with probability 0.65\n",
      "England vs. France: France wins with probability 0.50\n",
      "Belgium vs. Uruguay: Belgium wins with probability 0.53\n",
      "\n",
      "\n",
      "___Starting of the semifinal___\n",
      "Argentina vs. Brazil: Brazil wins with probability 0.64\n",
      "France vs. Belgium: France wins with probability 0.51\n",
      "\n",
      "\n",
      "___Starting of the final___\n",
      "Brazil vs. France: Brazil wins with probability 0.65\n",
      "\n",
      "\n"
     ]
    }
   ],
   "source": [
    "pairing = [0,3,4,7,8,11,12,15,2,1,6,5,10,9,14,13]\n",
    "\n",
    "world_cup = world_cup.sort_values(by=[\"Group\", \"points\", \"total_prob\"], ascending=False).reset_index()\n",
    "next_round_wc = world_cup.groupby(\"Group\").nth([0, 1]) # select the top 2\n",
    "next_round_wc = next_round_wc.reset_index()\n",
    "next_round_wc = next_round_wc.loc[pairing]\n",
    "next_round_wc = next_round_wc.set_index(\"Team\")\n",
    "\n",
    "finals = [\"round_of_16\", \"quarterfinal\", \"semifinal\", \"final\"]\n",
    "\n",
    "labels = list()\n",
    "odds = list()\n",
    "\n",
    "for f in finals:\n",
    "    print(\"___Starting of the {}___\".format(f))\n",
    "    iterations = int(len(next_round_wc) / 2)\n",
    "    winners = []\n",
    "\n",
    "    for i in range(iterations):\n",
    "        home = next_round_wc.index[i*2]\n",
    "        away = next_round_wc.index[i*2+1]\n",
    "        print(\"{} vs. {}: \".format(home,\n",
    "                                   away), \n",
    "                                   end='')\n",
    "        row = pd.DataFrame(np.array([[np.nan, np.nan, np.nan, True]]), columns=X_test.columns)\n",
    "        home_rank = world_cup_rankings.loc[home, \"rank\"]\n",
    "        home_points = world_cup_rankings.loc[home, \"weighted_points\"]\n",
    "        opp_rank = world_cup_rankings.loc[away, \"rank\"]\n",
    "        opp_points = world_cup_rankings.loc[away, \"weighted_points\"]\n",
    "        row[\"average_rank\"] = (home_rank + opp_rank) / 2\n",
    "        row[\"rank_difference\"] = home_rank - opp_rank\n",
    "        row[\"point_difference\"] = home_points - opp_points\n",
    "\n",
    "        home_win_prob = model.predict_proba(row)[:,1][0]\n",
    "        if model.predict_proba(row)[:,1] <= 0.5:\n",
    "            print(\"{0} wins with probability {1:.2f}\".format(away, 1-home_win_prob))\n",
    "            winners.append(away)\n",
    "        else:\n",
    "            print(\"{0} wins with probability {1:.2f}\".format(home, home_win_prob))\n",
    "            winners.append(home)\n",
    "\n",
    "        labels.append(\"{}({:.2f}) vs. {}({:.2f})\".format(world_cup_rankings.loc[home, \"country_abrv\"], \n",
    "                                                        1/home_win_prob, \n",
    "                                                        world_cup_rankings.loc[away, \"country_abrv\"], \n",
    "                                                        1/(1-home_win_prob)))\n",
    "        odds.append([home_win_prob, 1-home_win_prob])\n",
    "                \n",
    "    next_round_wc = next_round_wc.loc[winners]\n",
    "    print(\"\\n\")"
   ]
  },
  {
   "cell_type": "code",
   "execution_count": null,
   "metadata": {},
   "outputs": [],
   "source": []
  }
 ],
 "metadata": {
  "kernelspec": {
   "display_name": "Python 3 (ipykernel)",
   "language": "python",
   "name": "python3"
  },
  "language_info": {
   "codemirror_mode": {
    "name": "ipython",
    "version": 3
   },
   "file_extension": ".py",
   "mimetype": "text/x-python",
   "name": "python",
   "nbconvert_exporter": "python",
   "pygments_lexer": "ipython3",
   "version": "3.9.7"
  }
 },
 "nbformat": 4,
 "nbformat_minor": 1
}
